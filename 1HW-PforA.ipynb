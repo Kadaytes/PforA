{
 "cells": [
  {
   "cell_type": "markdown",
   "id": "91d24ec8",
   "metadata": {},
   "source": [
    "## Задача 1\n",
    "\n",
    "Оформляйте ноутбук, используя эти советы:\n",
    "Номер задачи - заголовок 2\n",
    "Номер подзадачи - заголовок 3\n",
    "\n",
    "Предоставленные наборы данных оформляйте, как код\n",
    "Рекомендации для преподавателей по оценке задания:\n",
    "Смотреть, чтобы студент красиво оформлял ноутбук, использовал ячейки с текстом, указывал номера заданий"
   ]
  },
  {
   "cell_type": "code",
   "execution_count": 9,
   "id": "8cc02f92",
   "metadata": {},
   "outputs": [],
   "source": [
    "import numpy as np\n",
    "import pandas as pd\n",
    "import matplotlib.pyplot as plt\n",
    "import seaborn as sns"
   ]
  },
  {
   "cell_type": "markdown",
   "id": "3a92b078",
   "metadata": {},
   "source": [
    "## Задача 2\n",
    "\n",
    "На складе лежат разные фрукты в разном количестве.\n",
    "Нужно написать функцию, которая на вход принимает любое количество \n",
    "названий фруктов и их количество, а возвращает общее количество фруктов на складе"
   ]
  },
  {
   "cell_type": "code",
   "execution_count": 2,
   "id": "e7bc50cb",
   "metadata": {},
   "outputs": [
    {
     "data": {
      "text/plain": [
       "450"
      ]
     },
     "execution_count": 2,
     "metadata": {},
     "output_type": "execute_result"
    }
   ],
   "source": [
    "def stock (product:dict) -> int:\n",
    "    amount = 0\n",
    "    for i in product:\n",
    "        amount += product[i]\n",
    "    return amount\n",
    "\n",
    "fruits = {\n",
    "    \"яблоки\":120,\n",
    "    \"груши\":80,\n",
    "    \"абрикосы\":100,\n",
    "    \"персики\":60,\n",
    "    \"инжир\":50,\n",
    "    \"апельсины\":40\n",
    "}\n",
    "stock(fruits)"
   ]
  },
  {
   "cell_type": "markdown",
   "id": "ec08ae94",
   "metadata": {},
   "source": [
    "## Задача 3\n",
    "\n",
    "Дан список с затратами на рекламу. Но в данных есть ошибки,\n",
    "некоторые затраты имеют отрицательную величину. \n",
    "Удалите такие значения из списка и посчитайте суммарные затраты.\n",
    "Используйте list comprehensions"
   ]
  },
  {
   "cell_type": "code",
   "execution_count": 3,
   "id": "e92f9dac",
   "metadata": {},
   "outputs": [
    {
     "data": {
      "text/plain": [
       "1425"
      ]
     },
     "execution_count": 3,
     "metadata": {},
     "output_type": "execute_result"
    }
   ],
   "source": [
    "cost = [100, 125, -90, 345, 655, -1, 0, 200]\n",
    "sum([i for i in cost if i >=0 ])"
   ]
  },
  {
   "cell_type": "markdown",
   "id": "7bddb667",
   "metadata": {},
   "source": [
    "## Задача 4\n",
    "\n",
    "Даны два списка.\n",
    "Дата покупки\n",
    "Суммы покупок по датам\n",
    "Используйте аннотирование типов."
   ]
  },
  {
   "cell_type": "markdown",
   "id": "98bb9010",
   "metadata": {},
   "source": [
    "### 4.1 \n",
    "Найдите, какая выручка у компании в ноябре\n",
    "Используйте list comprehensions"
   ]
  },
  {
   "cell_type": "code",
   "execution_count": 5,
   "id": "600ec34c",
   "metadata": {},
   "outputs": [
    {
     "data": {
      "text/plain": [
       "25098"
      ]
     },
     "execution_count": 5,
     "metadata": {},
     "output_type": "execute_result"
    }
   ],
   "source": [
    "date = ['2021-09-14', '2021-12-15', '2021-09-08', '2021-12-05', '2021-10-09', '2021-09-30', '2021-12-22', '2021-11-29', '2021-12-24', '2021-11-26', '2021-10-27', '2021-12-18', '2021-11-09', '2021-11-23', '2021-09-27', '2021-10-02', '2021-12-27', '2021-09-20', '2021-12-13', '2021-11-01', '2021-11-09', '2021-12-06', '2021-12-08', '2021-10-09', '2021-10-31', '2021-09-30', '2021-11-09', '2021-12-13', '2021-10-26', '2021-12-09']\n",
    "amount = [1270, 8413, 9028, 3703, 5739, 4095, 295, 4944, 5723, 3701, 4471, 651, 7037, 4274, 6275, 4988, 6930, 2971, 6592, 2004, 2822, 519, 3406, 2732, 5015, 2008, 316, 6333, 5700, 2887]\n",
    "sum([i[1] for i in zip(date, amount) if '-11-' in i[0]])"
   ]
  },
  {
   "cell_type": "markdown",
   "id": "f68e5891",
   "metadata": {},
   "source": [
    "### 4.2 \n",
    "Найдите выручку компании в зависимости от месяца\n",
    "Для этого напишите функцию, которая на вход принимает \n",
    "список с датами и список с выручкой, а на выходе словарь,\n",
    "где ключи - это месяцы, а значения - это выручка."
   ]
  },
  {
   "cell_type": "code",
   "execution_count": 6,
   "id": "428bdc51",
   "metadata": {},
   "outputs": [
    {
     "data": {
      "text/plain": [
       "{'09': 25647, '12': 45452, '10': 28645, '11': 25098}"
      ]
     },
     "execution_count": 6,
     "metadata": {},
     "output_type": "execute_result"
    }
   ],
   "source": [
    "def proceeds(date: list, amount: list) -> dict :\n",
    "    extended = [(i[0][5:7], i[1]) for i in zip(date,amount)]\n",
    "    new = {i[0]:0 for i in extended}\n",
    "    for i in extended:\n",
    "        new [i[0]] += i[1]\n",
    "    return new\n",
    "\n",
    "proceeds(date, amount)  "
   ]
  },
  {
   "cell_type": "code",
   "execution_count": null,
   "id": "4fd368ca",
   "metadata": {},
   "outputs": [],
   "source": [
    "#"
   ]
  }
 ],
 "metadata": {
  "kernelspec": {
   "display_name": "Python 3 (ipykernel)",
   "language": "python",
   "name": "python3"
  },
  "language_info": {
   "codemirror_mode": {
    "name": "ipython",
    "version": 3
   },
   "file_extension": ".py",
   "mimetype": "text/x-python",
   "name": "python",
   "nbconvert_exporter": "python",
   "pygments_lexer": "ipython3",
   "version": "3.9.13"
  }
 },
 "nbformat": 4,
 "nbformat_minor": 5
}
